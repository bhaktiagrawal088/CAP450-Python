{
 "cells": [
  {
   "cell_type": "code",
   "execution_count": 8,
   "metadata": {},
   "outputs": [
    {
     "name": "stdout",
     "output_type": "stream",
     "text": [
      "CSV file created sucessfully... \n"
     ]
    }
   ],
   "source": [
    "import csv\n",
    "data = [[\"Name\", \"Marks\", \"Gender\"],\n",
    "        [\"Bhakti\", 85.4, \"Female\"],\n",
    "        [\"Alakshya\", 90.2, \"Female\"],\n",
    "        [\"Vedant\", 76.1, \"Male\"],\n",
    "        [\"Shraddha\", 73.3, \"Female\"]]\n",
    "\n",
    "csv_file_path = \"file1.csv\"\n",
    "with open(csv_file_path, mode='w', newline='') as file:\n",
    "    writer = csv.writer(file)\n",
    "    writer.writerow(data[0])\n",
    "    writer.writerows(data[1:])\n",
    "print(\"CSV file created sucessfully... \")\n",
    "\n"
   ]
  },
  {
   "cell_type": "code",
   "execution_count": 11,
   "metadata": {},
   "outputs": [
    {
     "name": "stdout",
     "output_type": "stream",
     "text": [
      "['Bhakti', '85.4', 'Female']\n",
      "['Alakshya', '90.2', 'Female']\n",
      "['Vedant', '76.1', 'Male']\n",
      "['Shraddha', '73.3', 'Female']\n"
     ]
    }
   ],
   "source": [
    "import csv\n",
    "csv_file_path = 'file1.csv'\n",
    "with open(csv_file_path, mode='r') as file:\n",
    "    reader = csv.reader(file)\n",
    "    # assuming the first row contains headers Skip the header\n",
    "    header = next(reader)\n",
    "    for row in reader:\n",
    "        print(row)"
   ]
  },
  {
   "cell_type": "code",
   "execution_count": 13,
   "metadata": {},
   "outputs": [
    {
     "name": "stdout",
     "output_type": "stream",
     "text": [
      "0      Bhakti\n",
      "1    Alakshya\n",
      "2      Vedant\n",
      "3    Shraddha\n",
      "Name: Name, dtype: object\n"
     ]
    },
    {
     "ename": "",
     "evalue": "",
     "output_type": "error",
     "traceback": [
      "\u001b[1;31mThe Kernel crashed while executing code in the the current cell or a previous cell. Please review the code in the cell(s) to identify a possible cause of the failure. Click <a href='https://aka.ms/vscodeJupyterKernelCrash'>here</a> for more info. View Jupyter <a href='command:jupyter.viewOutput'>log</a> for further details."
     ]
    }
   ],
   "source": [
    "import pandas as pd\n",
    "csv_file_path = 'file1.csv'\n",
    "df = pd.read_csv(csv_file_path)\n",
    "desired_column = df['Name']\n",
    "print(desired_column)"
   ]
  }
 ],
 "metadata": {
  "kernelspec": {
   "display_name": "Python 3",
   "language": "python",
   "name": "python3"
  },
  "language_info": {
   "codemirror_mode": {
    "name": "ipython",
    "version": 3
   },
   "file_extension": ".py",
   "mimetype": "text/x-python",
   "name": "python",
   "nbconvert_exporter": "python",
   "pygments_lexer": "ipython3",
   "version": "3.11.4"
  }
 },
 "nbformat": 4,
 "nbformat_minor": 2
}
