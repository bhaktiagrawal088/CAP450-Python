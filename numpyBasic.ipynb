{
 "cells": [
  {
   "cell_type": "code",
   "execution_count": 5,
   "metadata": {},
   "outputs": [
    {
     "name": "stdout",
     "output_type": "stream",
     "text": [
      "[0, 1, 2, 3, 4, 5, 6, 7, 8, 9]\n",
      "[<class 'int'>, <class 'int'>, <class 'int'>, <class 'int'>, <class 'int'>, <class 'int'>, <class 'int'>, <class 'int'>, <class 'int'>, <class 'int'>]\n"
     ]
    }
   ],
   "source": [
    "L = list(range(10))\n",
    "print(L)\n",
    "print([type(item) for item in L])\n",
    "\n",
    " "
   ]
  },
  {
   "cell_type": "code",
   "execution_count": 1,
   "metadata": {},
   "outputs": [
    {
     "name": "stdout",
     "output_type": "stream",
     "text": [
      "1.26.3\n",
      "[0 0 0 0 0 0 0 0 0 0]\n",
      "[1. 1. 1. 1. 1.]\n",
      "[[1.23 1.23 1.23]\n",
      " [1.23 1.23 1.23]\n",
      " [1.23 1.23 1.23]]\n"
     ]
    }
   ],
   "source": [
    "import numpy as np\n",
    "print(np.__version__)\n",
    "print(np.zeros(10, dtype='int'))\n",
    "print(np.ones(5, dtype='float'))\n",
    "print(np.full((3,3), 1.23))\n"
   ]
  },
  {
   "cell_type": "code",
   "execution_count": 2,
   "metadata": {},
   "outputs": [
    {
     "name": "stdout",
     "output_type": "stream",
     "text": [
      "[ 0  2  4  6  8 10 12 14 16 18]\n",
      "[0.   0.25 0.5  0.75 1.  ]\n",
      "[ 0.  5. 10.]\n",
      "[[1. 0. 0.]\n",
      " [0. 1. 0.]\n",
      " [0. 0. 1.]]\n",
      "[[1. 0.]\n",
      " [0. 1.]]\n"
     ]
    }
   ],
   "source": [
    "import numpy as np\n",
    "print(np.arange(0, 20, 2))\n",
    "\n",
    "print(np.linspace(0,1,5))\n",
    "print(np.linspace(0,10,3))\n",
    "# Generate a sequence of numbers from 0 to 9 with step size of \n",
    "\n",
    "print(np.eye(3))\n",
    "print(np.eye(2))\n",
    " "
   ]
  },
  {
   "cell_type": "code",
   "execution_count": 3,
   "metadata": {},
   "outputs": [
    {
     "name": "stdout",
     "output_type": "stream",
     "text": [
      "[ 1  2  3  4  5 67  8  9]\n",
      "1\n",
      "9\n",
      "67\n",
      "67\n"
     ]
    }
   ],
   "source": [
    "import numpy as np\n",
    "x  = np.array([1,2,3,4,5,67,8,9])\n",
    "print(x )# full array\n",
    "print(x[0]) # first index\n",
    "print(x[-1]) # last index\n",
    "print(x[5])  # fifth index\n",
    "print(x[-3]) # third last index"
   ]
  },
  {
   "cell_type": "code",
   "execution_count": 4,
   "metadata": {},
   "outputs": [
    {
     "name": "stdout",
     "output_type": "stream",
     "text": [
      "[[1 2 3]\n",
      " [4 5 6]\n",
      " [7 8 9]]\n",
      "1\n",
      "6\n"
     ]
    }
   ],
   "source": [
    "x2 = np.array([[1,2,3],[4,5,6], [7,8,9]])\n",
    "print(x2)\n",
    "print(x2[0,0]) #first row first column\n",
    "print(x2[1,2]) # second row third column"
   ]
  },
  {
   "cell_type": "code",
   "execution_count": 6,
   "metadata": {},
   "outputs": [
    {
     "name": "stdout",
     "output_type": "stream",
     "text": [
      "[0 1 2 3 4 5 6 7 8 9]\n",
      "[0 1 2 3 4]\n",
      "[4 5 6 7 8 9]\n",
      "[0 1 2 3 4 5 6 7 8 9]\n",
      "[2 3 4]\n",
      "[0 2 4 6 8]\n",
      "[1 3 5 7 9]\n",
      "[9 8 7 6 5 4 3 2 1 0]\n"
     ]
    }
   ],
   "source": [
    "x = np.arange(10)\n",
    "print(x)\n",
    "print(x[:5])  #end with 4th position\n",
    "print(x[4:]) # start with  5th position\n",
    "print(x[:] ) #whole array\n",
    "print(x[2:5]) #from 3nd to  5th positions \n",
    "print(x[::2]) #return  every second element from the list starting from index 0 (default).\n",
    "print(x[1::2]) \n",
    "print(x[::-1]) # reverse an array\n"
   ]
  },
  {
   "cell_type": "code",
   "execution_count": 23,
   "metadata": {},
   "outputs": [
    {
     "name": "stdout",
     "output_type": "stream",
     "text": [
      "[[1 2 3]\n",
      " [4 6 8]\n",
      " [7 8 9]\n",
      " [1 2 3]\n",
      " [4 6 8]\n",
      " [7 8 9]]\n",
      "[87  0  5 87  0  5]\n",
      "[[87  0  5]\n",
      " [ 4  5  6]\n",
      " [ 8  9  0]]\n",
      "[[9 9]\n",
      " [9 9]]\n"
     ]
    }
   ],
   "source": [
    "x1 = np.array([[1,2,3],[4,6,8],[7,8,9]])\n",
    "x2 = np.array([[4,5,6],[8,9,0,]])\n",
    "print(np.concatenate([x1,x1]))\n",
    "grid  = np.array([12,3,4])\n",
    "grid = np.array([87,0,5])\n",
    "print(np.concatenate([grid, grid]))\n",
    "print(np.vstack([grid, x2]))\n",
    "grid = np.array([[9],[9]])\n",
    "print(np.hstack([grid, grid]))"
   ]
  },
  {
   "cell_type": "code",
   "execution_count": 27,
   "metadata": {},
   "outputs": [
    {
     "name": "stdout",
     "output_type": "stream",
     "text": [
      "[ 0  1  2  3  4  5  6  7  8  9 10 11 12 13 14 15 16 17 18 19]\n",
      "[0 1 2] [3 4 5 6 7 8] [ 9 10 11 12 13 14 15 16 17 18 19]\n"
     ]
    }
   ],
   "source": [
    "x = np.arange(20)\n",
    "print(x)\n",
    "x1, x2, x3 = np.split(x,[3,9])\n",
    "print(x1,x2, x3)"
   ]
  },
  {
   "cell_type": "code",
   "execution_count": 34,
   "metadata": {},
   "outputs": [
    {
     "name": "stdout",
     "output_type": "stream",
     "text": [
      "[[0 1 2]\n",
      " [3 4 5]]\n",
      "[[ 0  1  2]\n",
      " [ 3  4  5]\n",
      " [ 6  7  8]\n",
      " [ 9 10 11]\n",
      " [12 13 14]\n",
      " [15 16 17]]\n"
     ]
    }
   ],
   "source": [
    "grid = np.arange(6).reshape((2,3)) # 2 row and 3 column \n",
    "print(grid)\n",
    "grid = np.arange(18).reshape((6,3))  # 6 row and  3 column matrix\n",
    "print(grid)"
   ]
  },
  {
   "cell_type": "code",
   "execution_count": 35,
   "metadata": {},
   "outputs": [
    {
     "name": "stdout",
     "output_type": "stream",
     "text": [
      "[[0 1 2]\n",
      " [3 4 5]] [[ 6  7  8]\n",
      " [ 9 10 11]\n",
      " [12 13 14]\n",
      " [15 16 17]]\n"
     ]
    }
   ],
   "source": [
    "u , l = np.vsplit(grid,[2])\n",
    "print(u , l)"
   ]
  }
 ],
 "metadata": {
  "kernelspec": {
   "display_name": "Python 3",
   "language": "python",
   "name": "python3"
  },
  "language_info": {
   "codemirror_mode": {
    "name": "ipython",
    "version": 3
   },
   "file_extension": ".py",
   "mimetype": "text/x-python",
   "name": "python",
   "nbconvert_exporter": "python",
   "pygments_lexer": "ipython3",
   "version": "3.11.4"
  }
 },
 "nbformat": 4,
 "nbformat_minor": 2
}
