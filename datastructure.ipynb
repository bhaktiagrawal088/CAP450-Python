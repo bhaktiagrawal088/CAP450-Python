{
 "cells": [
  {
   "cell_type": "code",
   "execution_count": 16,
   "metadata": {},
   "outputs": [
    {
     "name": "stdout",
     "output_type": "stream",
     "text": [
      "['apple', 'banana', 'kiwi', 'apple', 'pear', '1']\n",
      "6\n",
      "2\n",
      "0\n",
      "1\n",
      "0\n",
      "['apple', 'banana', 'kiwi', 'apple', 'pear', '1', 'grapes']\n",
      "['1', 'apple', 'apple', 'banana', 'grapes', 'kiwi', 'pear']\n",
      "['pear', 'kiwi', 'grapes', 'banana', 'apple', 'apple', '1']\n",
      "1\n",
      "apple\n"
     ]
    }
   ],
   "source": [
    "lists = ['apple','banana', 'kiwi', 'apple','pear','1']\n",
    "print(lists)\n",
    "print(len(lists))\n",
    "print(lists.count('apple'))\n",
    "print(lists.count('orange'))\n",
    "print(lists.index('banana'))\n",
    "print(lists.index('apple'))\n",
    "lists.append('grapes')\n",
    "print(lists)\n",
    "lists.sort()\n",
    "print(lists)\n",
    "lists.reverse()\n",
    "print(lists)\n",
    "print(lists.pop())\n",
    "print(lists.pop())\n"
   ]
  },
  {
   "cell_type": "code",
   "execution_count": 7,
   "metadata": {},
   "outputs": [
    {
     "name": "stdout",
     "output_type": "stream",
     "text": [
      "Print Dictionary with use of Integer keys : \n",
      "{1: 'Artificoal', 2: 'Intelligence', 3: 'laboratory'}\n",
      "{'subject': 'AI', 1: [1, 2, 3, 4]}\n",
      "AI\n",
      "[1, 2, 3, 4]\n",
      "2\n",
      "{'subject': 'AI'}\n"
     ]
    }
   ],
   "source": [
    "Dict = {1 : \"Artificoal\" , 2 : \"Intelligence\" , 3 : \"laboratory\"}\n",
    "print(\"Print Dictionary with use of Integer keys : \")\n",
    "print(Dict)\n",
    "\n",
    "Dict = {\"subject\" : \"AI\", 1 : [1,2,3,4]}\n",
    "print(Dict)\n",
    "\n",
    "print(Dict[\"subject\"])\n",
    "print(Dict[1])\n",
    "print(Dict[1][1])\n",
    "del(Dict[1])\n",
    "print(Dict)"
   ]
  },
  {
   "cell_type": "code",
   "execution_count": 8,
   "metadata": {},
   "outputs": [
    {
     "name": "stdout",
     "output_type": "stream",
     "text": [
      "(1, 'a', 'String', 3)\n",
      "a\n",
      "3\n"
     ]
    }
   ],
   "source": [
    "tup = (1, 'a' , 'String', 1+2)\n",
    "print(tup)\n",
    "print(tup[1])\n",
    "print(tup[3])\n"
   ]
  },
  {
   "cell_type": "code",
   "execution_count": 11,
   "metadata": {},
   "outputs": [
    {
     "name": "stdout",
     "output_type": "stream",
     "text": [
      "set1 :  {1, 2, 3, 4}\n",
      "set2 :  {6, 7, 8, 9, 10, 11, 12, 13}\n"
     ]
    }
   ],
   "source": [
    "set1 = set()\n",
    "set2 = set()\n",
    "\n",
    "for i in range(1,5):\n",
    "    set1.add(i)\n",
    "    \n",
    "for i in range(6,14):\n",
    "    set2.add(i)\n",
    "    \n",
    "print(\"set1 : \" , set1)\n",
    "print(\"set2 : \" , set2)"
   ]
  },
  {
   "cell_type": "code",
   "execution_count": 13,
   "metadata": {},
   "outputs": [
    {
     "name": "stdout",
     "output_type": "stream",
     "text": [
      "{'lab', 'Artificial', 'Intelligence'}\n",
      "<class 'set'>\n"
     ]
    }
   ],
   "source": [
    "var = { \"Artificial\" , \"Intelligence\", \"lab\"}\n",
    "print(var)\n",
    "print(type(var))"
   ]
  },
  {
   "cell_type": "code",
   "execution_count": 22,
   "metadata": {},
   "outputs": [
    {
     "name": "stdout",
     "output_type": "stream",
     "text": [
      "['one', 'two', 'three', 'four']\n",
      "['one', 'two', 'three', 'four', 'five']\n",
      "['one', 'zero', 'two', 'three', 'four', 'five', 'six']\n",
      "['one', 'zero', 'two', 'four', 'five', 'six']\n",
      "\n"
     ]
    }
   ],
   "source": [
    "lists = ['one', 'two', 'three', 'four']\n",
    "print(lists)\n",
    "lists.append('five')\n",
    "print(lists)\n",
    "lists.append('six')\n",
    "lists.insert(1, 'zero')\n",
    "print(lists)\n",
    "lists.remove('three')\n",
    "print(lists)\n",
    "print()"
   ]
  },
  {
   "cell_type": "code",
   "execution_count": 29,
   "metadata": {},
   "outputs": [
    {
     "name": "stdout",
     "output_type": "stream",
     "text": [
      "['one', 'two', 'three', 'four', 'six']\n",
      "['one', 'two', 'three', 'four', 'six', 'seven']\n",
      "\n",
      "6\n",
      "six\n",
      "seven\n"
     ]
    }
   ],
   "source": [
    "stacks = ['one', 'two', 'three', 'four','six'] \n",
    "print(stacks)\n",
    "stacks.append('seven')\n",
    "print(stacks)\n",
    "print()\n",
    "print(len(stacks))\n",
    "\n",
    "print(stacks[len(stacks)-2])\n",
    "print(stacks.pop())\n"
   ]
  },
  {
   "cell_type": "code",
   "execution_count": 31,
   "metadata": {},
   "outputs": [
    {
     "name": "stdout",
     "output_type": "stream",
     "text": [
      "Queue: ['one', 'two', 'three', 'four', 'five', 'six', 'seven']\n",
      "7\n"
     ]
    }
   ],
   "source": [
    "queue = ['one', 'two', 'three', 'four', 'five']\n",
    "queue.append('six')\n",
    "queue.append('seven')\n",
    "print(f'Queue: {queue}')  \n",
    "print(len(queue))  \n"
   ]
  }
 ],
 "metadata": {
  "kernelspec": {
   "display_name": "Python 3",
   "language": "python",
   "name": "python3"
  },
  "language_info": {
   "codemirror_mode": {
    "name": "ipython",
    "version": 3
   },
   "file_extension": ".py",
   "mimetype": "text/x-python",
   "name": "python",
   "nbconvert_exporter": "python",
   "pygments_lexer": "ipython3",
   "version": "3.11.4"
  }
 },
 "nbformat": 4,
 "nbformat_minor": 2
}
