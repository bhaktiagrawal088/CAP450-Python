{
 "cells": [
  {
   "cell_type": "code",
   "execution_count": 1,
   "id": "fd2338bb-20e3-4846-8853-7d7d9eea8664",
   "metadata": {},
   "outputs": [
    {
     "name": "stdout",
     "output_type": "stream",
     "text": [
      "hello world\n"
     ]
    }
   ],
   "source": [
    "print('hello world')"
   ]
  },
  {
   "cell_type": "code",
   "execution_count": 2,
   "id": "ec1fcb87-b6ef-4325-afa8-8a8535a05d96",
   "metadata": {},
   "outputs": [
    {
     "name": "stdout",
     "output_type": "stream",
     "text": [
      "The addition of 3 and 4  7\n"
     ]
    }
   ],
   "source": [
    "print(\"The addition of 3 and 4 \", 3+4)\n"
   ]
  },
  {
   "cell_type": "code",
   "execution_count": null,
   "id": "e09c53a3-b23e-4a3e-b215-c26ea991fb2b",
   "metadata": {},
   "outputs": [],
   "source": []
  }
 ],
 "metadata": {
  "kernelspec": {
   "display_name": "Python 3 (ipykernel)",
   "language": "python",
   "name": "python3"
  },
  "language_info": {
   "codemirror_mode": {
    "name": "ipython",
    "version": 3
   },
   "file_extension": ".py",
   "mimetype": "text/x-python",
   "name": "python",
   "nbconvert_exporter": "python",
   "pygments_lexer": "ipython3",
   "version": "3.11.4"
  }
 },
 "nbformat": 4,
 "nbformat_minor": 5
}
