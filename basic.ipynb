{
 "cells": [
  {
   "cell_type": "code",
   "execution_count": 1,
   "id": "579a2cac-af48-42f3-b852-44b61ee54a2a",
   "metadata": {},
   "outputs": [
    {
     "name": "stdout",
     "output_type": "stream",
     "text": [
      "hello\n"
     ]
    }
   ],
   "source": [
    "print(\"hello\")\n"
   ]
  },
  {
   "cell_type": "code",
   "execution_count": 2,
   "id": "51a5a7c8-153f-41be-a60e-c29723da9359",
   "metadata": {},
   "outputs": [
    {
     "name": "stdout",
     "output_type": "stream",
     "text": [
      "Bhakti 20 3.6\n"
     ]
    }
   ],
   "source": [
    "name = \"Bhakti\"\n",
    "num1 = \"20\"\n",
    "num2 = \"3.6\"\n",
    "print(name , num1, num2)"
   ]
  },
  {
   "cell_type": "code",
   "execution_count": 11,
   "id": "e3273ba2-061a-4b8e-89ee-da77ed069794",
   "metadata": {},
   "outputs": [
    {
     "name": "stdout",
     "output_type": "stream",
     "text": [
      "HAHAHAHA\n",
      "BHAKTI\n",
      "agrawal\n",
      "18\n",
      "['hello', 1, '234']\n",
      "True\n",
      "False\n",
      "False\n",
      "True\n",
      "['hello', 1, '234', 'world', 26]\n",
      "['first', 'hello', 1, '234', 'world', 26]\n"
     ]
    }
   ],
   "source": [
    "print(\"HA\"*4)\n",
    "print(\"Bhakti\".upper())\n",
    "print(\"Agrawal\".lower())\n",
    "print(len(\"HelloBhaktiAgrawal\"))\n",
    "arr = [\"hello\" , 1 , \"234\"]\n",
    "print(arr)\n",
    "print(7>2)\n",
    "print(7<2)\n",
    "print(4!=4)\n",
    "print(4!=5)\n",
    "arr.append(\"world\")\n",
    "arr.append(26)\n",
    "print(arr)\n",
    "arr.insert(0 , \"first\")\n",
    "print(arr)"
   ]
  },
  {
   "cell_type": "code",
   "execution_count": 3,
   "id": "8e6b783c-896b-434e-a637-c8e19fb286f0",
   "metadata": {},
   "outputs": [
    {
     "name": "stdout",
     "output_type": "stream",
     "text": [
      "Hello  bhakti agrawal\n",
      "The sum is  7\n",
      "The subtract is  1\n",
      "The multiple is  12\n"
     ]
    }
   ],
   "source": [
    "name = input(\"Enter your name\")\n",
    "print(\"Hello  \" + name)\n",
    "\n",
    "num1 = int(input(\"Enter first number\"))\n",
    "num2 = int(input(\"Enter second number\"))\n",
    "print(\"The sum is \", num1+num2)\n",
    "print(\"The subtract is \" , num2-num1)\n",
    "print(\"The multiple is \" , num1*num2) "
   ]
  },
  {
   "cell_type": "code",
   "execution_count": 3,
   "id": "5531276f-cf69-4d83-9f75-4d0a714010ac",
   "metadata": {},
   "outputs": [
    {
     "name": "stdout",
     "output_type": "stream",
     "text": [
      "The number is 200\n"
     ]
    }
   ],
   "source": [
    "num = 200\n",
    "if(num>300):\n",
    "    print(\"The number is greater than 300\")\n",
    "elif(num>200):\n",
    "    print(\"The number is greater than 100 and lesser than 200\")\n",
    "else:\n",
    "    print(\"The number is 200\")"
   ]
  },
  {
   "cell_type": "code",
   "execution_count": 6,
   "id": "22d4cf42",
   "metadata": {},
   "outputs": [
    {
     "name": "stdout",
     "output_type": "stream",
     "text": [
      "Hello\n",
      "Bhakti\n",
      "Hello\n",
      "Bhakti\n",
      "Hello\n",
      "Bhakti\n"
     ]
    }
   ],
   "source": [
    "def hello():\n",
    "    print(\"Hello\")\n",
    "    print(\"Bhakti\")\n",
    "hello()\n",
    "hello()\n",
    "hello()"
   ]
  },
  {
   "cell_type": "code",
   "execution_count": 11,
   "id": "a08ef3a5",
   "metadata": {},
   "outputs": [
    {
     "name": "stdout",
     "output_type": "stream",
     "text": [
      "        0\n",
      "0  Greeks\n",
      "1     For\n",
      "2  Greeks\n"
     ]
    }
   ],
   "source": [
    "import pandas as p\n",
    "l = [\"Greeks\", \"For\", \"Greeks\"]\n",
    "print(p.DataFrame(l))"
   ]
  },
  {
   "cell_type": "code",
   "execution_count": 14,
   "id": "a7e96245",
   "metadata": {},
   "outputs": [
    {
     "name": "stdout",
     "output_type": "stream",
     "text": [
      "       Name  Marks  Gender\n",
      "0    Bhakti   85.4  Female\n",
      "1  Alakshya   90.2  Female\n",
      "2    Vedant   76.1    Male\n",
      "3  Shraddha   73.3  Female\n"
     ]
    },
    {
     "ename": "",
     "evalue": "",
     "output_type": "error",
     "traceback": [
      "\u001b[1;31mThe Kernel crashed while executing code in the the current cell or a previous cell. Please review the code in the cell(s) to identify a possible cause of the failure. Click <a href='https://aka.ms/vscodeJupyterKernelCrash'>here</a> for more info. View Jupyter <a href='command:jupyter.viewOutput'>log</a> for further details."
     ]
    }
   ],
   "source": [
    "import pandas as pd\n",
    "age = [[\"Bhakti\" , 85.4, \"Female\"],\n",
    "       [\"Alakshya\" , 90.2, \"Female\"],\n",
    "       [\"Vedant\" , 76.1, \"Male\"],\n",
    "       [\"Shraddha\", 73.3, \"Female\"],]\n",
    "col = ['Name', 'Marks','Gender']\n",
    "df = pd.DataFrame(age, columns=col)\n",
    "print(df)\n"
   ]
  }
 ],
 "metadata": {
  "kernelspec": {
   "display_name": "Python 3 (ipykernel)",
   "language": "python",
   "name": "python3"
  },
  "language_info": {
   "codemirror_mode": {
    "name": "ipython",
    "version": 3
   },
   "file_extension": ".py",
   "mimetype": "text/x-python",
   "name": "python",
   "nbconvert_exporter": "python",
   "pygments_lexer": "ipython3",
   "version": "3.11.4"
  }
 },
 "nbformat": 4,
 "nbformat_minor": 5
}
