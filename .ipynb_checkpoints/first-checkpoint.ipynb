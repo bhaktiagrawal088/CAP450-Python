{
 "cells": [
  {
   "cell_type": "code",
   "execution_count": 1,
   "id": "579a2cac-af48-42f3-b852-44b61ee54a2a",
   "metadata": {},
   "outputs": [
    {
     "name": "stdout",
     "output_type": "stream",
     "text": [
      "hello\n"
     ]
    }
   ],
   "source": [
    "print(\"hello\")\n"
   ]
  },
  {
   "cell_type": "code",
   "execution_count": 2,
   "id": "51a5a7c8-153f-41be-a60e-c29723da9359",
   "metadata": {},
   "outputs": [
    {
     "name": "stdout",
     "output_type": "stream",
     "text": [
      "Bhakti 20 3.6\n"
     ]
    }
   ],
   "source": [
    "name = \"Bhakti\"\n",
    "num1 = \"20\"\n",
    "num2 = \"3.6\"\n",
    "print(name , num1, num2)"
   ]
  },
  {
   "cell_type": "code",
   "execution_count": 11,
   "id": "e3273ba2-061a-4b8e-89ee-da77ed069794",
   "metadata": {},
   "outputs": [
    {
     "name": "stdout",
     "output_type": "stream",
     "text": [
      "HAHAHAHA\n",
      "BHAKTI\n",
      "agrawal\n",
      "18\n",
      "['hello', 1, '234']\n",
      "True\n",
      "False\n",
      "False\n",
      "True\n",
      "['hello', 1, '234', 'world', 26]\n",
      "['first', 'hello', 1, '234', 'world', 26]\n"
     ]
    }
   ],
   "source": [
    "print(\"HA\"*4)\n",
    "print(\"Bhakti\".upper())\n",
    "print(\"Agrawal\".lower())\n",
    "print(len(\"HelloBhaktiAgrawal\"))\n",
    "arr = [\"hello\" , 1 , \"234\"]\n",
    "print(arr)\n",
    "print(7>2)\n",
    "print(7<2)\n",
    "print(4!=4)\n",
    "print(4!=5)\n",
    "arr.append(\"world\")\n",
    "arr.append(26)\n",
    "print(arr)\n",
    "arr.insert(0 , \"first\")\n",
    "print(arr)"
   ]
  },
  {
   "cell_type": "code",
   "execution_count": 12,
   "id": "8e6b783c-896b-434e-a637-c8e19fb286f0",
   "metadata": {},
   "outputs": [
    {
     "name": "stdin",
     "output_type": "stream",
     "text": [
      "Enter your name bhakti\n"
     ]
    },
    {
     "name": "stdout",
     "output_type": "stream",
     "text": [
      "Hellobhakti\n"
     ]
    },
    {
     "name": "stdin",
     "output_type": "stream",
     "text": [
      "Enter first number 1\n",
      "Enter second number 2\n"
     ]
    },
    {
     "name": "stdout",
     "output_type": "stream",
     "text": [
      "The sum is  12\n"
     ]
    }
   ],
   "source": [
    "name = input(\"Enter your name\")\n",
    "print(\"Hello  \" + name)\n",
    "\n",
    "num1 = input(\"Enter first number\")\n",
    "num2 = input(\"Enter second number\")\n",
    "print(\"The sum is \", num1+num2)"
   ]
  },
  {
   "cell_type": "code",
   "execution_count": null,
   "id": "5531276f-cf69-4d83-9f75-4d0a714010ac",
   "metadata": {},
   "outputs": [],
   "source": []
  }
 ],
 "metadata": {
  "kernelspec": {
   "display_name": "Python 3 (ipykernel)",
   "language": "python",
   "name": "python3"
  },
  "language_info": {
   "codemirror_mode": {
    "name": "ipython",
    "version": 3
   },
   "file_extension": ".py",
   "mimetype": "text/x-python",
   "name": "python",
   "nbconvert_exporter": "python",
   "pygments_lexer": "ipython3",
   "version": "3.11.4"
  }
 },
 "nbformat": 4,
 "nbformat_minor": 5
}
